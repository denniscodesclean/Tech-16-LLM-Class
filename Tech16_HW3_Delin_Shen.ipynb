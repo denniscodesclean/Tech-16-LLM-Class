{
  "nbformat": 4,
  "nbformat_minor": 0,
  "metadata": {
    "colab": {
      "provenance": []
    },
    "kernelspec": {
      "name": "python3",
      "display_name": "Python 3"
    },
    "language_info": {
      "name": "python"
    }
  },
  "cells": [
    {
      "cell_type": "code",
      "execution_count": 1,
      "metadata": {
        "colab": {
          "base_uri": "https://localhost:8080/"
        },
        "id": "55S5Sjlv-rKl",
        "outputId": "643ad7fd-270c-4464-ef55-5e298ba36d55"
      },
      "outputs": [
        {
          "output_type": "stream",
          "name": "stdout",
          "text": [
            "\u001b[?25l     \u001b[90m━━━━━━━━━━━━━━━━━━━━━━━━━━━━━━━━━━━━━━━━\u001b[0m \u001b[32m0.0/67.3 kB\u001b[0m \u001b[31m?\u001b[0m eta \u001b[36m-:--:--\u001b[0m\r\u001b[2K     \u001b[90m━━━━━━━━━━━━━━━━━━━━━━━━━━━━━━━━━━━━━━━━\u001b[0m \u001b[32m67.3/67.3 kB\u001b[0m \u001b[31m3.8 MB/s\u001b[0m eta \u001b[36m0:00:00\u001b[0m\n",
            "\u001b[?25h  Installing build dependencies ... \u001b[?25l\u001b[?25hdone\n",
            "  Getting requirements to build wheel ... \u001b[?25l\u001b[?25hdone\n",
            "  Preparing metadata (pyproject.toml) ... \u001b[?25l\u001b[?25hdone\n",
            "\u001b[2K   \u001b[90m━━━━━━━━━━━━━━━━━━━━━━━━━━━━━━━━━━━━━━━━\u001b[0m \u001b[32m611.1/611.1 kB\u001b[0m \u001b[31m12.6 MB/s\u001b[0m eta \u001b[36m0:00:00\u001b[0m\n",
            "\u001b[2K   \u001b[90m━━━━━━━━━━━━━━━━━━━━━━━━━━━━━━━━━━━━━━━━\u001b[0m \u001b[32m2.4/2.4 MB\u001b[0m \u001b[31m36.7 MB/s\u001b[0m eta \u001b[36m0:00:00\u001b[0m\n",
            "\u001b[2K   \u001b[90m━━━━━━━━━━━━━━━━━━━━━━━━━━━━━━━━━━━━━━━━\u001b[0m \u001b[32m1.6/1.6 MB\u001b[0m \u001b[31m45.7 MB/s\u001b[0m eta \u001b[36m0:00:00\u001b[0m\n",
            "\u001b[2K   \u001b[90m━━━━━━━━━━━━━━━━━━━━━━━━━━━━━━━━━━━━━━━━\u001b[0m \u001b[32m184.5/184.5 kB\u001b[0m \u001b[31m9.8 MB/s\u001b[0m eta \u001b[36m0:00:00\u001b[0m\n",
            "\u001b[2K   \u001b[90m━━━━━━━━━━━━━━━━━━━━━━━━━━━━━━━━━━━━━━━━\u001b[0m \u001b[32m77.7/77.7 kB\u001b[0m \u001b[31m4.0 MB/s\u001b[0m eta \u001b[36m0:00:00\u001b[0m\n",
            "\u001b[2K   \u001b[90m━━━━━━━━━━━━━━━━━━━━━━━━━━━━━━━━━━━━━━━━\u001b[0m \u001b[32m278.6/278.6 kB\u001b[0m \u001b[31m17.2 MB/s\u001b[0m eta \u001b[36m0:00:00\u001b[0m\n",
            "\u001b[2K   \u001b[90m━━━━━━━━━━━━━━━━━━━━━━━━━━━━━━━━━━━━━━━━\u001b[0m \u001b[32m94.8/94.8 kB\u001b[0m \u001b[31m8.0 MB/s\u001b[0m eta \u001b[36m0:00:00\u001b[0m\n",
            "\u001b[2K   \u001b[90m━━━━━━━━━━━━━━━━━━━━━━━━━━━━━━━━━━━━━━━━\u001b[0m \u001b[32m2.0/2.0 MB\u001b[0m \u001b[31m46.1 MB/s\u001b[0m eta \u001b[36m0:00:00\u001b[0m\n",
            "\u001b[2K   \u001b[90m━━━━━━━━━━━━━━━━━━━━━━━━━━━━━━━━━━━━━━━━\u001b[0m \u001b[32m101.6/101.6 kB\u001b[0m \u001b[31m7.5 MB/s\u001b[0m eta \u001b[36m0:00:00\u001b[0m\n",
            "\u001b[2K   \u001b[90m━━━━━━━━━━━━━━━━━━━━━━━━━━━━━━━━━━━━━━━━\u001b[0m \u001b[32m13.3/13.3 MB\u001b[0m \u001b[31m47.4 MB/s\u001b[0m eta \u001b[36m0:00:00\u001b[0m\n",
            "\u001b[2K   \u001b[90m━━━━━━━━━━━━━━━━━━━━━━━━━━━━━━━━━━━━━━━━\u001b[0m \u001b[32m55.9/55.9 kB\u001b[0m \u001b[31m3.8 MB/s\u001b[0m eta \u001b[36m0:00:00\u001b[0m\n",
            "\u001b[2K   \u001b[90m━━━━━━━━━━━━━━━━━━━━━━━━━━━━━━━━━━━━━━━━\u001b[0m \u001b[32m177.4/177.4 kB\u001b[0m \u001b[31m12.1 MB/s\u001b[0m eta \u001b[36m0:00:00\u001b[0m\n",
            "\u001b[2K   \u001b[90m━━━━━━━━━━━━━━━━━━━━━━━━━━━━━━━━━━━━━━━━\u001b[0m \u001b[32m65.0/65.0 kB\u001b[0m \u001b[31m5.0 MB/s\u001b[0m eta \u001b[36m0:00:00\u001b[0m\n",
            "\u001b[2K   \u001b[90m━━━━━━━━━━━━━━━━━━━━━━━━━━━━━━━━━━━━━━━━\u001b[0m \u001b[32m118.7/118.7 kB\u001b[0m \u001b[31m8.9 MB/s\u001b[0m eta \u001b[36m0:00:00\u001b[0m\n",
            "\u001b[2K   \u001b[90m━━━━━━━━━━━━━━━━━━━━━━━━━━━━━━━━━━━━━━━━\u001b[0m \u001b[32m73.3/73.3 kB\u001b[0m \u001b[31m5.1 MB/s\u001b[0m eta \u001b[36m0:00:00\u001b[0m\n",
            "\u001b[2K   \u001b[90m━━━━━━━━━━━━━━━━━━━━━━━━━━━━━━━━━━━━━━━━\u001b[0m \u001b[32m300.7/300.7 kB\u001b[0m \u001b[31m26.7 MB/s\u001b[0m eta \u001b[36m0:00:00\u001b[0m\n",
            "\u001b[2K   \u001b[90m━━━━━━━━━━━━━━━━━━━━━━━━━━━━━━━━━━━━━━━━\u001b[0m \u001b[32m1.2/1.2 MB\u001b[0m \u001b[31m48.3 MB/s\u001b[0m eta \u001b[36m0:00:00\u001b[0m\n",
            "\u001b[2K   \u001b[90m━━━━━━━━━━━━━━━━━━━━━━━━━━━━━━━━━━━━━━━━\u001b[0m \u001b[32m62.3/62.3 kB\u001b[0m \u001b[31m6.0 MB/s\u001b[0m eta \u001b[36m0:00:00\u001b[0m\n",
            "\u001b[2K   \u001b[90m━━━━━━━━━━━━━━━━━━━━━━━━━━━━━━━━━━━━━━━━\u001b[0m \u001b[32m13.3/13.3 MB\u001b[0m \u001b[31m93.4 MB/s\u001b[0m eta \u001b[36m0:00:00\u001b[0m\n",
            "\u001b[2K   \u001b[90m━━━━━━━━━━━━━━━━━━━━━━━━━━━━━━━━━━━━━━━━\u001b[0m \u001b[32m459.8/459.8 kB\u001b[0m \u001b[31m36.5 MB/s\u001b[0m eta \u001b[36m0:00:00\u001b[0m\n",
            "\u001b[2K   \u001b[90m━━━━━━━━━━━━━━━━━━━━━━━━━━━━━━━━━━━━━━━━\u001b[0m \u001b[32m50.9/50.9 kB\u001b[0m \u001b[31m4.6 MB/s\u001b[0m eta \u001b[36m0:00:00\u001b[0m\n",
            "\u001b[2K   \u001b[90m━━━━━━━━━━━━━━━━━━━━━━━━━━━━━━━━━━━━━━━━\u001b[0m \u001b[32m319.7/319.7 kB\u001b[0m \u001b[31m22.4 MB/s\u001b[0m eta \u001b[36m0:00:00\u001b[0m\n",
            "\u001b[2K   \u001b[90m━━━━━━━━━━━━━━━━━━━━━━━━━━━━━━━━━━━━━━━━\u001b[0m \u001b[32m71.5/71.5 kB\u001b[0m \u001b[31m5.7 MB/s\u001b[0m eta \u001b[36m0:00:00\u001b[0m\n",
            "\u001b[2K   \u001b[90m━━━━━━━━━━━━━━━━━━━━━━━━━━━━━━━━━━━━━━━━\u001b[0m \u001b[32m4.0/4.0 MB\u001b[0m \u001b[31m93.6 MB/s\u001b[0m eta \u001b[36m0:00:00\u001b[0m\n",
            "\u001b[2K   \u001b[90m━━━━━━━━━━━━━━━━━━━━━━━━━━━━━━━━━━━━━━━━\u001b[0m \u001b[32m452.6/452.6 kB\u001b[0m \u001b[31m34.5 MB/s\u001b[0m eta \u001b[36m0:00:00\u001b[0m\n",
            "\u001b[2K   \u001b[90m━━━━━━━━━━━━━━━━━━━━━━━━━━━━━━━━━━━━━━━━\u001b[0m \u001b[32m46.0/46.0 kB\u001b[0m \u001b[31m3.9 MB/s\u001b[0m eta \u001b[36m0:00:00\u001b[0m\n",
            "\u001b[2K   \u001b[90m━━━━━━━━━━━━━━━━━━━━━━━━━━━━━━━━━━━━━━━━\u001b[0m \u001b[32m86.8/86.8 kB\u001b[0m \u001b[31m8.2 MB/s\u001b[0m eta \u001b[36m0:00:00\u001b[0m\n",
            "\u001b[?25h  Building wheel for pypika (pyproject.toml) ... \u001b[?25l\u001b[?25hdone\n",
            "\u001b[31mERROR: pip's dependency resolver does not currently take into account all the packages that are installed. This behaviour is the source of the following dependency conflicts.\n",
            "torch 2.5.1+cu124 requires nvidia-cublas-cu12==12.4.5.8; platform_system == \"Linux\" and platform_machine == \"x86_64\", but you have nvidia-cublas-cu12 12.5.3.2 which is incompatible.\n",
            "torch 2.5.1+cu124 requires nvidia-cuda-cupti-cu12==12.4.127; platform_system == \"Linux\" and platform_machine == \"x86_64\", but you have nvidia-cuda-cupti-cu12 12.5.82 which is incompatible.\n",
            "torch 2.5.1+cu124 requires nvidia-cuda-nvrtc-cu12==12.4.127; platform_system == \"Linux\" and platform_machine == \"x86_64\", but you have nvidia-cuda-nvrtc-cu12 12.5.82 which is incompatible.\n",
            "torch 2.5.1+cu124 requires nvidia-cuda-runtime-cu12==12.4.127; platform_system == \"Linux\" and platform_machine == \"x86_64\", but you have nvidia-cuda-runtime-cu12 12.5.82 which is incompatible.\n",
            "torch 2.5.1+cu124 requires nvidia-cudnn-cu12==9.1.0.70; platform_system == \"Linux\" and platform_machine == \"x86_64\", but you have nvidia-cudnn-cu12 9.3.0.75 which is incompatible.\n",
            "torch 2.5.1+cu124 requires nvidia-cufft-cu12==11.2.1.3; platform_system == \"Linux\" and platform_machine == \"x86_64\", but you have nvidia-cufft-cu12 11.2.3.61 which is incompatible.\n",
            "torch 2.5.1+cu124 requires nvidia-curand-cu12==10.3.5.147; platform_system == \"Linux\" and platform_machine == \"x86_64\", but you have nvidia-curand-cu12 10.3.6.82 which is incompatible.\n",
            "torch 2.5.1+cu124 requires nvidia-cusolver-cu12==11.6.1.9; platform_system == \"Linux\" and platform_machine == \"x86_64\", but you have nvidia-cusolver-cu12 11.6.3.83 which is incompatible.\n",
            "torch 2.5.1+cu124 requires nvidia-cusparse-cu12==12.3.1.170; platform_system == \"Linux\" and platform_machine == \"x86_64\", but you have nvidia-cusparse-cu12 12.5.1.3 which is incompatible.\n",
            "torch 2.5.1+cu124 requires nvidia-nvjitlink-cu12==12.4.127; platform_system == \"Linux\" and platform_machine == \"x86_64\", but you have nvidia-nvjitlink-cu12 12.5.82 which is incompatible.\n",
            "gcsfs 2024.10.0 requires fsspec==2024.10.0, but you have fsspec 2025.2.0 which is incompatible.\u001b[0m\u001b[31m\n",
            "\u001b[0m"
          ]
        }
      ],
      "source": [
        "!pip install llama-index-readers-s3 llama-index-vector-stores-chroma -q"
      ]
    },
    {
      "cell_type": "code",
      "source": [
        "!pip install --upgrade llama-index -q"
      ],
      "metadata": {
        "colab": {
          "base_uri": "https://localhost:8080/"
        },
        "id": "WbGznIfIJzWa",
        "outputId": "3dd62c96-5858-4f89-f97d-c22134c1a333"
      },
      "execution_count": 2,
      "outputs": [
        {
          "output_type": "stream",
          "name": "stdout",
          "text": [
            "\u001b[?25l   \u001b[90m━━━━━━━━━━━━━━━━━━━━━━━━━━━━━━━━━━━━━━━━\u001b[0m \u001b[32m0.0/253.0 kB\u001b[0m \u001b[31m?\u001b[0m eta \u001b[36m-:--:--\u001b[0m\r\u001b[2K   \u001b[90m━━━━━━━━━━━━━━━━━━━━━━━━━━━━━━━━━━━━━━━━\u001b[0m \u001b[32m253.0/253.0 kB\u001b[0m \u001b[31m11.3 MB/s\u001b[0m eta \u001b[36m0:00:00\u001b[0m\n",
            "\u001b[?25h"
          ]
        }
      ]
    },
    {
      "cell_type": "code",
      "source": [
        "!pip show llama-index-readers-s3"
      ],
      "metadata": {
        "colab": {
          "base_uri": "https://localhost:8080/"
        },
        "id": "cFOkmQfuEfiO",
        "outputId": "44c51e92-6001-4382-8d4e-3907141564dd"
      },
      "execution_count": 3,
      "outputs": [
        {
          "output_type": "stream",
          "name": "stdout",
          "text": [
            "Name: llama-index-readers-s3\n",
            "Version: 0.4.0\n",
            "Summary: llama-index readers s3 integration\n",
            "Home-page: \n",
            "Author: Your Name\n",
            "Author-email: you@example.com\n",
            "License: MIT\n",
            "Location: /usr/local/lib/python3.11/dist-packages\n",
            "Requires: llama-index-core, llama-index-readers-file, s3fs\n",
            "Required-by: \n"
          ]
        }
      ]
    },
    {
      "cell_type": "code",
      "source": [
        "from llama_index.core import VectorStoreIndex\n",
        "from llama_index.readers.s3 import S3Reader\n",
        "from google.colab import userdata"
      ],
      "metadata": {
        "id": "_lDAo1lxE-wC"
      },
      "execution_count": 3,
      "outputs": []
    },
    {
      "cell_type": "code",
      "source": [
        "open_ai_key = userdata.get('open_ai_api')\n",
        "aws_access_key = userdata.get('aws_access_key_id')\n",
        "aws_secret_key = userdata.get('aws_secret_key')\n",
        "\n",
        "import os\n",
        "os.environ[\"OPENAI_API_KEY\"] = open_ai_key"
      ],
      "metadata": {
        "id": "CyiAO2QiGG4e"
      },
      "execution_count": 4,
      "outputs": []
    },
    {
      "cell_type": "code",
      "source": [
        "# Initialize S3Reader without the need for a custom reader class\n",
        "loader = S3Reader(\n",
        "    bucket=\"diary-log\",\n",
        "    key=\"user-data/user_id=dennis.json\",\n",
        "    aws_access_id=aws_access_key,\n",
        "    aws_access_secret=aws_secret_key,\n",
        "    #file_extractor={\".json\": json_extractor},  # Use custom extractor\n",
        ")\n",
        "\n",
        "documents = loader.load_data()"
      ],
      "metadata": {
        "id": "tpY3FUvEEiTk"
      },
      "execution_count": 5,
      "outputs": []
    },
    {
      "cell_type": "markdown",
      "source": [
        "Since S3 files are in JSON format, need to handle them before indexing"
      ],
      "metadata": {
        "id": "wMmSVAPTvLqP"
      }
    },
    {
      "cell_type": "code",
      "source": [
        "# Handle JSON entries from S3\n",
        "def process_json_entries(documents):\n",
        "    \"\"\"\n",
        "    Process the raw JSON entries from s3 into a format suitable for indexing\n",
        "    \"\"\"\n",
        "\n",
        "    import json\n",
        "    from llama_index.core.schema import Document\n",
        "    # Extract the text content from the MediaResource\n",
        "    json_text = documents[0].text_resource.text\n",
        "\n",
        "    # Split into individual JSON entries and parse\n",
        "    entries = [json.loads(entry) for entry in json_text.strip().split('\\n') if entry]\n",
        "\n",
        "    # Create formatted documents for each entry\n",
        "    processed_docs = []\n",
        "    for entry in entries:\n",
        "        formatted_text = f\"\"\"\n",
        "        Date: {entry['logDate']}\n",
        "        Theme: {entry['themeEntry']}\n",
        "        Study Time: {entry['studyTime']} hours\n",
        "        Entry: {entry['diaryEntry']}\n",
        "        \"\"\"\n",
        "        doc = Document(\n",
        "            text=formatted_text,\n",
        "            metadata={\n",
        "                'date': entry['logDate'],\n",
        "                'theme': entry['themeEntry'],\n",
        "                'study_time': entry['studyTime']\n",
        "            }\n",
        "        )\n",
        "        processed_docs.append(doc)\n",
        "    return processed_docs"
      ],
      "metadata": {
        "id": "0QyfbefGOWQS"
      },
      "execution_count": 6,
      "outputs": []
    },
    {
      "cell_type": "code",
      "source": [
        "docs = process_json_entries(documents)\n",
        "docs[0]"
      ],
      "metadata": {
        "colab": {
          "base_uri": "https://localhost:8080/"
        },
        "id": "Xd6NPc3uPEiU",
        "outputId": "b0c4e50c-03d7-4c6a-da09-7206cd703ba2"
      },
      "execution_count": 7,
      "outputs": [
        {
          "output_type": "execute_result",
          "data": {
            "text/plain": [
              "Document(id_='3701db44-3a8e-49cb-835c-7a5b84e9307d', embedding=None, metadata={'date': '2025-01-01', 'theme': 'Snowboarding', 'study_time': '2'}, excluded_embed_metadata_keys=[], excluded_llm_metadata_keys=[], relationships={}, metadata_template='{key}: {value}', metadata_separator='\\n', text_resource=MediaResource(embeddings=None, data=None, text='\\n        Date: 2025-01-01\\n        Theme: Snowboarding\\n        Study Time: 2 hours\\n        Entry: Today was my first time snowboarding. I spent most of the session getting comfortable with the board and learning to balance on flat terrain. I practiced getting up after falling, which happened a lot! I focused on learning how to glide smoothly and controlling my speed. It was a lot harder than I thought, but I\\\\u2019m excited to come back tomorrow. I also learned how to properly position my feet on the board to avoid any strain. By the end of the session, I was feeling more confident, even though I kept falling.\\n        ', path=None, url=None, mimetype=None), image_resource=None, audio_resource=None, video_resource=None, text_template='{metadata_str}\\n\\n{content}')"
            ]
          },
          "metadata": {},
          "execution_count": 7
        }
      ]
    },
    {
      "cell_type": "code",
      "source": [
        "# Create Index\n",
        "index = VectorStoreIndex.from_documents(docs)"
      ],
      "metadata": {
        "id": "TNEnRKwNHUm8"
      },
      "execution_count": 8,
      "outputs": []
    },
    {
      "cell_type": "code",
      "source": [
        "from llama_index.core import Settings\n",
        "\n",
        "\n",
        "Settings.chunk_size = 100\n",
        "Settings.chunk_overlap = 10\n",
        "\n",
        "index = VectorStoreIndex.from_documents(docs)\n",
        "\n",
        "query_engine = index.as_query_engine()\n",
        "\n",
        "\n",
        "response = query_engine.query(\"What sport did i do?\")\n",
        "\n",
        "print(response)\n"
      ],
      "metadata": {
        "colab": {
          "base_uri": "https://localhost:8080/"
        },
        "id": "lYbeQy6cPwdl",
        "outputId": "7827a9e6-888a-49f5-fb24-7b1934303f6a"
      },
      "execution_count": 11,
      "outputs": [
        {
          "output_type": "stream",
          "name": "stdout",
          "text": [
            "You went snowboarding.\n"
          ]
        }
      ]
    },
    {
      "cell_type": "markdown",
      "source": [
        "# VectorDB"
      ],
      "metadata": {
        "id": "7bd1KO5qRGmQ"
      }
    },
    {
      "cell_type": "code",
      "source": [
        "import chromadb\n",
        "from llama_index.vector_stores.chroma import ChromaVectorStore\n",
        "from llama_index.core import StorageContext\n",
        "\n",
        "chroma_client = chromadb.PersistentClient()\n",
        "chroma_collection = chroma_client.create_collection(\"s3_entries\")\n",
        "vector_store = ChromaVectorStore(chroma_collection=chroma_collection)\n",
        "storage_context = StorageContext.from_defaults(vector_store=vector_store)"
      ],
      "metadata": {
        "id": "oW5v2jI2RFwe"
      },
      "execution_count": 12,
      "outputs": []
    },
    {
      "cell_type": "code",
      "source": [
        "index = VectorStoreIndex.from_documents(\n",
        "    docs, storage_context=storage_context\n",
        ")\n",
        "query_engine = index.as_query_engine()\n",
        "chat_engine = index.as_chat_engine(\n",
        "                        chat_mode=\"openai\",\n",
        "                        verbose=True\n",
        "                        )\n",
        "response = chat_engine.query(\"sumamrize my snowboarding experience and recommend what to do next\")\n",
        "\n",
        "\n",
        "response"
      ],
      "metadata": {
        "colab": {
          "base_uri": "https://localhost:8080/"
        },
        "id": "fcfoBo7FRVWC",
        "outputId": "d8cba8a4-2957-4da0-830e-6d8923cfacef"
      },
      "execution_count": 13,
      "outputs": [
        {
          "output_type": "stream",
          "name": "stdout",
          "text": [
            "Added user message to memory: sumamrize my snowboarding experience and recommend what to do next\n",
            "=== Calling Function ===\n",
            "Calling function: query_engine_tool with args: {\"input\": \"summarize my snowboarding experience\"}\n",
            "Got output: You focused on learning how to glide smoothly, control your speed, position your feet properly on the board, and balance on flat terrain. Despite falling multiple times, you felt more confident by the end of the session and are excited to continue learning.\n",
            "========================\n",
            "\n",
            "=== Calling Function ===\n",
            "Calling function: query_engine_tool with args: {\"input\": \"recommend what to do next in snowboarding\"}\n",
            "Got output: Continue practicing carving to make smoother turns and reduce skidding. Work on mastering stopping techniques further. Consider practicing on steeper sections to challenge yourself. Additionally, focus on improving your confidence and balance by continuing to work on controlling your speed and gliding smoothly.\n",
            "========================\n",
            "\n"
          ]
        },
        {
          "output_type": "execute_result",
          "data": {
            "text/plain": [
              "Response(response='Your snowboarding experience involved focusing on learning how to glide smoothly, control your speed, position your feet properly on the board, and balance on flat terrain. Despite falling multiple times, you felt more confident by the end of the session and are excited to continue learning.\\n\\nTo enhance your snowboarding skills further, it is recommended to continue practicing carving to make smoother turns and reduce skidding. Work on mastering stopping techniques and consider practicing on steeper sections to challenge yourself. Additionally, focus on improving your confidence and balance by continuing to work on controlling your speed and gliding smoothly.', source_nodes=[NodeWithScore(node=TextNode(id_='3fb1a773-bbf4-42db-ae88-a1466955c02c', embedding=None, metadata={'date': '2025-01-01', 'theme': 'Snowboarding', 'study_time': '2'}, excluded_embed_metadata_keys=[], excluded_llm_metadata_keys=[], relationships={<NodeRelationship.SOURCE: '1'>: RelatedNodeInfo(node_id='3701db44-3a8e-49cb-835c-7a5b84e9307d', node_type='4', metadata={'date': '2025-01-01', 'theme': 'Snowboarding', 'study_time': '2'}, hash='e4228eb70254ee749606789d09cefd254d42e693483b53418fc512636f949490'), <NodeRelationship.PREVIOUS: '2'>: RelatedNodeInfo(node_id='dac412c1-70a8-440c-879f-edc85f69dc5b', node_type='1', metadata={'date': '2025-01-01', 'theme': 'Snowboarding', 'study_time': '2'}, hash='241e6402784168328d497dc6327e5d81abf0fe21931424d09924d572873220b6')}, metadata_template='{key}: {value}', metadata_separator='\\n', text='I focused on learning how to glide smoothly and controlling my speed. It was a lot harder than I thought, but I\\\\u2019m excited to come back tomorrow. I also learned how to properly position my feet on the board to avoid any strain. By the end of the session, I was feeling more confident, even though I kept falling.', mimetype='text/plain', start_char_idx=290, end_char_idx=606, metadata_seperator='\\n', text_template='{metadata_str}\\n\\n{content}'), score=0.7563043835109347), NodeWithScore(node=TextNode(id_='dac412c1-70a8-440c-879f-edc85f69dc5b', embedding=None, metadata={'date': '2025-01-01', 'theme': 'Snowboarding', 'study_time': '2'}, excluded_embed_metadata_keys=[], excluded_llm_metadata_keys=[], relationships={<NodeRelationship.SOURCE: '1'>: RelatedNodeInfo(node_id='3701db44-3a8e-49cb-835c-7a5b84e9307d', node_type='4', metadata={'date': '2025-01-01', 'theme': 'Snowboarding', 'study_time': '2'}, hash='e4228eb70254ee749606789d09cefd254d42e693483b53418fc512636f949490'), <NodeRelationship.NEXT: '3'>: RelatedNodeInfo(node_id='3fb1a773-bbf4-42db-ae88-a1466955c02c', node_type='1', metadata={}, hash='5d66de55464b0816866576b9f68aad2a29c29a1330bfbe36e42b2f8234bf1368')}, metadata_template='{key}: {value}', metadata_separator='\\n', text='Date: 2025-01-01\\n        Theme: Snowboarding\\n        Study Time: 2 hours\\n        Entry: Today was my first time snowboarding. I spent most of the session getting comfortable with the board and learning to balance on flat terrain. I practiced getting up after falling, which happened a lot!', mimetype='text/plain', start_char_idx=0, end_char_idx=289, metadata_seperator='\\n', text_template='{metadata_str}\\n\\n{content}'), score=0.7531828389486928), NodeWithScore(node=TextNode(id_='cdeb00ff-6f24-46c3-b755-a18b6c5b7c2b', embedding=None, metadata={'date': '2025-01-17', 'theme': 'Snowboarding', 'study_time': '3.5'}, excluded_embed_metadata_keys=[], excluded_llm_metadata_keys=[], relationships={<NodeRelationship.SOURCE: '1'>: RelatedNodeInfo(node_id='800beba7-885a-4148-8c45-17fae6bc573a', node_type='4', metadata={'date': '2025-01-17', 'theme': 'Snowboarding', 'study_time': '3.5'}, hash='e4eea71663cdc357ddc89c3c32f6e705d2e0418de992d2a3f9fde278fb12b55d'), <NodeRelationship.PREVIOUS: '2'>: RelatedNodeInfo(node_id='cbad837b-d0b7-40cd-bf65-eac34167c5e5', node_type='1', metadata={'date': '2025-01-17', 'theme': 'Snowboarding', 'study_time': '3.5'}, hash='847ff6e17f4db84ed5d966b19d79c979973e89bb37c7300d31ad9176c7012fbc'), <NodeRelationship.NEXT: '3'>: RelatedNodeInfo(node_id='dfa1f7ed-85b7-4607-a2a6-89b25784c65e', node_type='1', metadata={}, hash='5fe4ad0ae06ea27ecde4827e64be4066102b6fe35e72250e103a32d5207dc0cc')}, metadata_template='{key}: {value}', metadata_separator='\\n', text='I was able to make more consistent turns on both the heel and toe sides, and I tackled some steeper sections without falling. I focused a lot on carving, trying to make smoother turns and not skid as much. My stopping technique also improved, and I felt safer getting off lifts and navigating crowded areas.', mimetype='text/plain', start_char_idx=250, end_char_idx=557, metadata_seperator='\\n', text_template='{metadata_str}\\n\\n{content}'), score=0.718641042610351), NodeWithScore(node=TextNode(id_='3fb1a773-bbf4-42db-ae88-a1466955c02c', embedding=None, metadata={'date': '2025-01-01', 'theme': 'Snowboarding', 'study_time': '2'}, excluded_embed_metadata_keys=[], excluded_llm_metadata_keys=[], relationships={<NodeRelationship.SOURCE: '1'>: RelatedNodeInfo(node_id='3701db44-3a8e-49cb-835c-7a5b84e9307d', node_type='4', metadata={'date': '2025-01-01', 'theme': 'Snowboarding', 'study_time': '2'}, hash='e4228eb70254ee749606789d09cefd254d42e693483b53418fc512636f949490'), <NodeRelationship.PREVIOUS: '2'>: RelatedNodeInfo(node_id='dac412c1-70a8-440c-879f-edc85f69dc5b', node_type='1', metadata={'date': '2025-01-01', 'theme': 'Snowboarding', 'study_time': '2'}, hash='241e6402784168328d497dc6327e5d81abf0fe21931424d09924d572873220b6')}, metadata_template='{key}: {value}', metadata_separator='\\n', text='I focused on learning how to glide smoothly and controlling my speed. It was a lot harder than I thought, but I\\\\u2019m excited to come back tomorrow. I also learned how to properly position my feet on the board to avoid any strain. By the end of the session, I was feeling more confident, even though I kept falling.', mimetype='text/plain', start_char_idx=290, end_char_idx=606, metadata_seperator='\\n', text_template='{metadata_str}\\n\\n{content}'), score=0.7118421706374699)], metadata=None)"
            ]
          },
          "metadata": {},
          "execution_count": 13
        }
      ]
    },
    {
      "cell_type": "code",
      "source": [
        "print(response)"
      ],
      "metadata": {
        "colab": {
          "base_uri": "https://localhost:8080/"
        },
        "id": "FViA75-rv43_",
        "outputId": "d0845e20-9052-418f-dbed-6dcf968c3870"
      },
      "execution_count": 15,
      "outputs": [
        {
          "output_type": "stream",
          "name": "stdout",
          "text": [
            "Your snowboarding experience involved focusing on learning how to glide smoothly, control your speed, position your feet properly on the board, and balance on flat terrain. Despite falling multiple times, you felt more confident by the end of the session and are excited to continue learning.\n",
            "\n",
            "To enhance your snowboarding skills further, it is recommended to continue practicing carving to make smoother turns and reduce skidding. Work on mastering stopping techniques and consider practicing on steeper sections to challenge yourself. Additionally, focus on improving your confidence and balance by continuing to work on controlling your speed and gliding smoothly.\n"
          ]
        }
      ]
    },
    {
      "cell_type": "code",
      "source": [
        "# Inspecting the retrieved document\n",
        "print(\"Retrieved Document Text:\")\n",
        "print(response.source_nodes[0].text)  # Text from the retrieved document\n",
        "\n",
        "print(\"\\nDocument Metadata:\")\n",
        "for key, value in response.source_nodes[0].metadata.items():\n",
        "    print(f\"{key}: {value}\")\n",
        "\n",
        "print(\"\\nDocument Score:\")\n",
        "print(response.source_nodes[0].score)\n"
      ],
      "metadata": {
        "colab": {
          "base_uri": "https://localhost:8080/"
        },
        "id": "VIm6vYGJReLt",
        "outputId": "fcdcce76-a0c4-4a6e-9536-c445575c1441"
      },
      "execution_count": 14,
      "outputs": [
        {
          "output_type": "stream",
          "name": "stdout",
          "text": [
            "Retrieved Document Text:\n",
            "I focused on learning how to glide smoothly and controlling my speed. It was a lot harder than I thought, but I\\u2019m excited to come back tomorrow. I also learned how to properly position my feet on the board to avoid any strain. By the end of the session, I was feeling more confident, even though I kept falling.\n",
            "\n",
            "Document Metadata:\n",
            "date: 2025-01-01\n",
            "theme: Snowboarding\n",
            "study_time: 2\n",
            "\n",
            "Document Score:\n",
            "0.7563043835109347\n"
          ]
        }
      ]
    },
    {
      "cell_type": "code",
      "source": [
        "def"
      ],
      "metadata": {
        "id": "f7sbvzAzgf4w"
      },
      "execution_count": null,
      "outputs": []
    }
  ]
}